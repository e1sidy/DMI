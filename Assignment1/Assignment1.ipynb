{
  "nbformat": 4,
  "nbformat_minor": 0,
  "metadata": {
    "colab": {
      "name": "Assignment1.ipynb",
      "provenance": [],
      "collapsed_sections": []
    },
    "kernelspec": {
      "name": "python3",
      "display_name": "Python 3"
    },
    "language_info": {
      "name": "python"
    }
  },
  "cells": [
    {
      "cell_type": "code",
      "metadata": {
        "id": "wvs3Uin9gBzI"
      },
      "source": [
        "# importing the required libraries\n",
        "import math\n",
        "import random\n",
        "import numpy as np\n",
        "import pandas as pd\n",
        "import seaborn as sns\n",
        "from sklearn.svm import SVC\n",
        "from sklearn import metrics\n",
        "import matplotlib.pyplot as plt\n",
        "from sklearn.preprocessing import scale\n",
        "from sklearn.model_selection import KFold\n",
        "from sklearn.metrics import confusion_matrix\n",
        "from sklearn.model_selection import GridSearchCV\n",
        "from sklearn.model_selection import cross_val_score\n",
        "from sklearn.model_selection import train_test_split\n",
        "from sklearn.metrics import accuracy_score, hinge_loss\n",
        "\n",
        "letters = pd.read_csv(\"/content/sample_data/letter-recognition.csv\")"
      ],
      "execution_count": 1,
      "outputs": []
    },
    {
      "cell_type": "code",
      "metadata": {
        "colab": {
          "base_uri": "https://localhost:8080/"
        },
        "id": "jv_kPi1r_4Lj",
        "outputId": "8e296ff7-a8f5-401e-e9e5-a80e0c7219a3"
      },
      "source": [
        "#print(letters.shape)\n",
        "print(letters.columns)"
      ],
      "execution_count": 2,
      "outputs": [
        {
          "output_type": "stream",
          "text": [
            "Index(['lettr', 'x-box', 'y-box', 'width', 'high', 'onpix', 'x-bar', 'y-bar',\n",
            "       'x2bar', 'y2bar', 'xybar', 'x2ybr', 'xy2br', 'x-ege', 'xegvy', 'y-ege',\n",
            "       'yegvx'],\n",
            "      dtype='object')\n"
          ],
          "name": "stdout"
        }
      ]
    },
    {
      "cell_type": "code",
      "metadata": {
        "id": "gfVZCF-dgEOh"
      },
      "source": [
        "x=letters['lettr'].unique()"
      ],
      "execution_count": 3,
      "outputs": []
    },
    {
      "cell_type": "code",
      "metadata": {
        "colab": {
          "base_uri": "https://localhost:8080/"
        },
        "id": "rSa-4ao8gEPp",
        "outputId": "a3cbe4a0-8a68-4baf-d949-912e2242523e"
      },
      "source": [
        "round(letters.drop('lettr', axis=1).mean(), 2)"
      ],
      "execution_count": 4,
      "outputs": [
        {
          "output_type": "execute_result",
          "data": {
            "text/plain": [
              "x-box    4.02\n",
              "y-box    7.04\n",
              "width    5.12\n",
              "high     5.37\n",
              "onpix    3.51\n",
              "x-bar    6.90\n",
              "y-bar    7.50\n",
              "x2bar    4.63\n",
              "y2bar    5.18\n",
              "xybar    8.28\n",
              "x2ybr    6.45\n",
              "xy2br    7.93\n",
              "x-ege    3.05\n",
              "xegvy    8.34\n",
              "y-ege    3.69\n",
              "yegvx    7.80\n",
              "dtype: float64"
            ]
          },
          "metadata": {
            "tags": []
          },
          "execution_count": 4
        }
      ]
    },
    {
      "cell_type": "code",
      "metadata": {
        "id": "4IiSccFZgEQ6"
      },
      "source": [
        "X = letters.drop(\"lettr\", axis = 1)\n",
        "y = letters['lettr']"
      ],
      "execution_count": 5,
      "outputs": []
    },
    {
      "cell_type": "code",
      "metadata": {
        "colab": {
          "base_uri": "https://localhost:8080/"
        },
        "id": "BHdM-YKwgYMW",
        "outputId": "31dede01-698c-4d56-be25-f0269896dece"
      },
      "source": [
        "X_scaled = scale(X)\n",
        "X_train, X_test, y_train, y_test = train_test_split(X_scaled, y, test_size = 0.3, random_state = 101)\n",
        "print(X_train.shape)\n",
        "# X_train.describe()\n",
        "print(type(X_scaled))\n",
        "print(y_train.shape)\n",
        "print(X_test.shape)"
      ],
      "execution_count": 6,
      "outputs": [
        {
          "output_type": "stream",
          "text": [
            "(14000, 16)\n",
            "<class 'numpy.ndarray'>\n",
            "(14000,)\n",
            "(6000, 16)\n"
          ],
          "name": "stdout"
        }
      ]
    },
    {
      "cell_type": "code",
      "metadata": {
        "id": "gB_KEhUPiApd"
      },
      "source": [
        "def eval(m,cnt_neg,cnt_plus,zt):\n",
        "  if m%2 == 0:\n",
        "    if zt[16] == 'A':\n",
        "        cnt_plus += 1;\n",
        "    else:\n",
        "        cnt_neg += 1"
      ],
      "execution_count": 7,
      "outputs": []
    },
    {
      "cell_type": "code",
      "metadata": {
        "id": "bAJ8aARUgYbb"
      },
      "source": [
        "def markov_samp(X_train, Y_train, k = 10, q = 1.2):\n",
        "    samp = []\n",
        "    for iter in range(k):\n",
        "        a=np.vstack(X_train)\n",
        "        b=np.vstack(Y_train.to_numpy())\n",
        "        Init_sampl = np.concatenate((a, b), axis = 1)\n",
        "        Dtr = random.sample(list(Init_sampl), int(2000))\n",
        "        m = len(Dtr)\n",
        "        print(\"M : \" , m)\n",
        "\n",
        "        cnt_neg = 0\n",
        "        cnt_plus = 0\n",
        "\n",
        "        index = np.random.choice(len(Dtr), 1, replace=False)  \n",
        "        Dtra = np.array(Dtr)\n",
        "        print(type(Dtra))\n",
        "        zt = Dtra[index][0]\n",
        "\n",
        "        eval(m,cnt_neg,cnt_plus,zt)\n",
        "\n",
        "        model_linear = SVC(kernel='linear')\n",
        "        model_linear.fit(X_train, Y_train)\n",
        "        y_zt = model_linear.predict(np.array(zt)[0:16].reshape(1, -1))\n",
        "        fxy1 = 1\n",
        "        if not y_zt==zt[16]:\n",
        "            fxy1 = 2 \n",
        "        l_zt = math.exp(0-fxy1)\n",
        "        Pd = 0\n",
        "        Pdd = 0\n",
        "        while(cnt_plus + cnt_neg < m ):\n",
        "            zstar = Dtra[np.random.choice(len(Dtr), 1, replace=False)][0]\n",
        "            ystar = model_linear.predict(np.array(zstar)[ 0:16].reshape(1, -1)) \n",
        "            fxy = 1\n",
        "            if not ystar==zstar[16]:\n",
        "                fxy = 2 \n",
        "            lzstar = math.exp(0-fxy)\n",
        "            P = math.exp(l_zt-lzstar)\n",
        "            \n",
        "            yt = zt[16]\n",
        "            zt = zstar\n",
        "\n",
        "            if P == 1:\n",
        "                if zt[16] == yt:\n",
        "                    r = random.uniform(0.001, 1.0)\n",
        "                    if r <= P:\n",
        "                        samp.append(zstar) \n",
        "                else:\n",
        "                    if yt=='A':\n",
        "                      ct=1\n",
        "                    else: ct=-1\n",
        "\n",
        "                    if ystar=='A':\n",
        "                      cst=1\n",
        "                    else: cst=-1\n",
        "\n",
        "                    Pd = math.exp(ct*fxy1-cst*fxy)\n",
        "                    r = random.uniform(0.001, 1.0)\n",
        "                    if r <= Pd:\n",
        "                        samp.append(zstar) \n",
        "\n",
        "            if len(samp) == k:\n",
        "                Pdd = q*P\n",
        "                samp.append(zstar) \n",
        "                \n",
        "            ztp1 = zstar\n",
        "            \n",
        "            if yt == 'A':\n",
        "                cnt_plus += 1\n",
        "            else:\n",
        "                cnt_neg += 1\n",
        "\n",
        "            if P > 1 or Pd > 1 or Pdd > 1:\n",
        "                samp.append(zstar)\n",
        "    return samp"
      ],
      "execution_count": 8,
      "outputs": []
    },
    {
      "cell_type": "code",
      "metadata": {
        "colab": {
          "base_uri": "https://localhost:8080/"
        },
        "id": "qaJ3nHGJgoh0",
        "outputId": "6b51efb5-8228-4a6c-d447-430420b3ccb7"
      },
      "source": [
        "num_samp = np.array(markov_samp(X_train, y_train))\n",
        "print(num_samp.shape)\n",
        "X_train = num_samp[:, 0:16]\n",
        "y_train = num_samp[:, 16]\n",
        "print(X_train.shape)\n",
        "print(y_train.shape)"
      ],
      "execution_count": 9,
      "outputs": [
        {
          "output_type": "stream",
          "text": [
            "M :  2000\n",
            "<class 'numpy.ndarray'>\n",
            "M :  2000\n",
            "<class 'numpy.ndarray'>\n",
            "M :  2000\n",
            "<class 'numpy.ndarray'>\n",
            "M :  2000\n",
            "<class 'numpy.ndarray'>\n",
            "M :  2000\n",
            "<class 'numpy.ndarray'>\n",
            "M :  2000\n",
            "<class 'numpy.ndarray'>\n",
            "M :  2000\n",
            "<class 'numpy.ndarray'>\n",
            "M :  2000\n",
            "<class 'numpy.ndarray'>\n",
            "M :  2000\n",
            "<class 'numpy.ndarray'>\n",
            "M :  2000\n",
            "<class 'numpy.ndarray'>\n",
            "(18662, 17)\n",
            "(18662, 16)\n",
            "(18662,)\n"
          ],
          "name": "stdout"
        }
      ]
    },
    {
      "cell_type": "code",
      "metadata": {
        "id": "_5zetbrcgojV"
      },
      "source": [
        "Y_train = []\n",
        "for i in y_train:\n",
        "    Y_train.append(ord(i))"
      ],
      "execution_count": 10,
      "outputs": []
    },
    {
      "cell_type": "code",
      "metadata": {
        "colab": {
          "base_uri": "https://localhost:8080/"
        },
        "id": "UFPrDE0OgomS",
        "outputId": "1de561e7-d4e5-4bc0-9ae6-9ef96ca3758d"
      },
      "source": [
        "print(X_test.shape)"
      ],
      "execution_count": 11,
      "outputs": [
        {
          "output_type": "stream",
          "text": [
            "(6000, 16)\n"
          ],
          "name": "stdout"
        }
      ]
    },
    {
      "cell_type": "code",
      "metadata": {
        "id": "mdNLt31DgzU6"
      },
      "source": [
        "Y_test = []\n",
        "for i in y_test:\n",
        "    Y_test.append(ord(i))"
      ],
      "execution_count": 12,
      "outputs": []
    },
    {
      "cell_type": "code",
      "metadata": {
        "id": "kKHY-nGqrcl8"
      },
      "source": [
        "# X_train.describe()"
      ],
      "execution_count": 13,
      "outputs": []
    },
    {
      "cell_type": "code",
      "metadata": {
        "id": "wpylsggdsNeN"
      },
      "source": [
        ""
      ],
      "execution_count": 13,
      "outputs": []
    },
    {
      "cell_type": "code",
      "metadata": {
        "id": "rIYRBGH2Zy3H"
      },
      "source": [
        "class KernelManager:\n",
        "  def __init__(self, xTrain, yTrain, xTest, yTest):\n",
        "    self.xTrain = xTrain\n",
        "    self.yTrain = yTrain\n",
        "    self.xTest = xTest\n",
        "    self.yTest = yTest\n",
        "\n",
        "  def linearKernel(self):\n",
        "    modelLinear = SVC(kernel='linear')\n",
        "    initialText = \"The accuracy using linear kernel : \"\n",
        "    return modelLinear, initialText\n",
        "\n",
        "  def rbfKernel(self):\n",
        "    modelLinear = SVC(kernel='rbf')\n",
        "    initialText = \"The accuracy using rbf kernel : \"\n",
        "    return modelLinear, initialText\n",
        "\n",
        "  def polyKernel(self):\n",
        "    modelLinear = SVC(kernel='poly')\n",
        "    initialText = \"The accuracy using poly kernel : \"\n",
        "    return modelLinear, initialText\n",
        "\n",
        "  def findAccuracy(self, modelLinear, initialText):\n",
        "    modelLinear.fit(self.xTrain, self.yTrain)\n",
        "    y_pred = modelLinear.predict(self.xTest)\n",
        "    accuracy = metrics.accuracy_score(y_true=self.yTest, y_pred=y_pred)\n",
        "    print(initialText, accuracy, \"\\n\") \n",
        "    return accuracy"
      ],
      "execution_count": 14,
      "outputs": []
    },
    {
      "cell_type": "code",
      "metadata": {
        "id": "FXry7AQAZyt6"
      },
      "source": [
        "manager = KernelManager(X_train, Y_train, X_test, Y_test)\n",
        "acc_array = []"
      ],
      "execution_count": 15,
      "outputs": []
    },
    {
      "cell_type": "code",
      "metadata": {
        "colab": {
          "base_uri": "https://localhost:8080/"
        },
        "id": "fJfr61bPZx_M",
        "outputId": "0e8660e4-c545-4523-bdba-79947089e263"
      },
      "source": [
        "model_linear, txt = manager.linearKernel()\n",
        "acc_array.append(str(1 - float(manager.findAccuracy(model_linear, txt)))[:4])"
      ],
      "execution_count": 16,
      "outputs": [
        {
          "output_type": "stream",
          "text": [
            "The accuracy using linear kernel :  0.8456666666666667 \n",
            "\n"
          ],
          "name": "stdout"
        }
      ]
    },
    {
      "cell_type": "code",
      "metadata": {
        "colab": {
          "base_uri": "https://localhost:8080/"
        },
        "id": "UYO_WjEaaNOo",
        "outputId": "9bc51e16-d54c-4be3-f9a5-4f15032230f8"
      },
      "source": [
        "model_linear, txt = manager.rbfKernel()\n",
        "acc_array.append(str(1 - float(manager.findAccuracy(model_linear, txt)))[:4])"
      ],
      "execution_count": 17,
      "outputs": [
        {
          "output_type": "stream",
          "text": [
            "The accuracy using rbf kernel :  0.9348333333333333 \n",
            "\n"
          ],
          "name": "stdout"
        }
      ]
    },
    {
      "cell_type": "code",
      "metadata": {
        "colab": {
          "base_uri": "https://localhost:8080/"
        },
        "id": "iUUNQ0Z-aRiR",
        "outputId": "d71f27a7-1db1-432e-ce53-16d33ac7b9f4"
      },
      "source": [
        "model_linear, txt = manager.polyKernel()\n",
        "acc_array.append(str(1 - float(manager.findAccuracy(model_linear, txt)))[:4])"
      ],
      "execution_count": 18,
      "outputs": [
        {
          "output_type": "stream",
          "text": [
            "The accuracy using poly kernel :  0.8885 \n",
            "\n"
          ],
          "name": "stdout"
        }
      ]
    },
    {
      "cell_type": "code",
      "metadata": {
        "id": "ll7_lCRPaUXO"
      },
      "source": [
        "# acc_array.append(\"NaN\")\n",
        "# acc_array\n"
      ],
      "execution_count": 19,
      "outputs": []
    },
    {
      "cell_type": "code",
      "metadata": {
        "id": "zWELiXDKaY0z",
        "colab": {
          "base_uri": "https://localhost:8080/",
          "height": 141
        },
        "outputId": "790a6cd1-f9ba-4eb4-f234-c59be539e288"
      },
      "source": [
        "table = pd.DataFrame(columns=['Kernel', 'KPCA', 'SVDD', 'OCSVM', 'OCSSVM', 'OCSSVM with SMO', 'MS_SVM'])\n",
        "table['Kernel'] = ['Linear', 'RBF', 'Intersection']\n",
        "table['KPCA'] = ['0.02', '0.05', '0.18']\n",
        "table['SVDD'] = ['0.09', '0.07', '0.01']\n",
        "table['OCSVM'] = ['0.01', '0.14', '0.04']\n",
        "table['OCSSVM'] = ['0.07', '0.09', '0.26']\n",
        "table['OCSSVM with SMO'] = ['0.04', '0.04', '0.22']\n",
        "table['MS_SVM'] = acc_array\n",
        "table"
      ],
      "execution_count": 20,
      "outputs": [
        {
          "output_type": "execute_result",
          "data": {
            "text/html": [
              "<div>\n",
              "<style scoped>\n",
              "    .dataframe tbody tr th:only-of-type {\n",
              "        vertical-align: middle;\n",
              "    }\n",
              "\n",
              "    .dataframe tbody tr th {\n",
              "        vertical-align: top;\n",
              "    }\n",
              "\n",
              "    .dataframe thead th {\n",
              "        text-align: right;\n",
              "    }\n",
              "</style>\n",
              "<table border=\"1\" class=\"dataframe\">\n",
              "  <thead>\n",
              "    <tr style=\"text-align: right;\">\n",
              "      <th></th>\n",
              "      <th>Kernel</th>\n",
              "      <th>KPCA</th>\n",
              "      <th>SVDD</th>\n",
              "      <th>OCSVM</th>\n",
              "      <th>OCSSVM</th>\n",
              "      <th>OCSSVM with SMO</th>\n",
              "      <th>MS_SVM</th>\n",
              "    </tr>\n",
              "  </thead>\n",
              "  <tbody>\n",
              "    <tr>\n",
              "      <th>0</th>\n",
              "      <td>Linear</td>\n",
              "      <td>0.02</td>\n",
              "      <td>0.09</td>\n",
              "      <td>0.01</td>\n",
              "      <td>0.07</td>\n",
              "      <td>0.04</td>\n",
              "      <td>0.15</td>\n",
              "    </tr>\n",
              "    <tr>\n",
              "      <th>1</th>\n",
              "      <td>RBF</td>\n",
              "      <td>0.05</td>\n",
              "      <td>0.07</td>\n",
              "      <td>0.14</td>\n",
              "      <td>0.09</td>\n",
              "      <td>0.04</td>\n",
              "      <td>0.06</td>\n",
              "    </tr>\n",
              "    <tr>\n",
              "      <th>2</th>\n",
              "      <td>Intersection</td>\n",
              "      <td>0.18</td>\n",
              "      <td>0.01</td>\n",
              "      <td>0.04</td>\n",
              "      <td>0.26</td>\n",
              "      <td>0.22</td>\n",
              "      <td>0.11</td>\n",
              "    </tr>\n",
              "  </tbody>\n",
              "</table>\n",
              "</div>"
            ],
            "text/plain": [
              "         Kernel  KPCA  SVDD OCSVM OCSSVM OCSSVM with SMO MS_SVM\n",
              "0        Linear  0.02  0.09  0.01   0.07            0.04   0.15\n",
              "1           RBF  0.05  0.07  0.14   0.09            0.04   0.06\n",
              "2  Intersection  0.18  0.01  0.04   0.26            0.22   0.11"
            ]
          },
          "metadata": {
            "tags": []
          },
          "execution_count": 20
        }
      ]
    },
    {
      "cell_type": "code",
      "metadata": {
        "id": "HM4imQZNscPs"
      },
      "source": [
        "# acc_array"
      ],
      "execution_count": 22,
      "outputs": []
    },
    {
      "cell_type": "code",
      "metadata": {
        "id": "aN_T2qOgs3Ss"
      },
      "source": [
        ""
      ],
      "execution_count": 21,
      "outputs": []
    }
  ]
}